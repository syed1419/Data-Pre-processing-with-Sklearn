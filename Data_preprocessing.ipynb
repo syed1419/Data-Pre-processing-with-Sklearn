{
 "cells": [
  {
   "cell_type": "code",
   "execution_count": 10,
   "id": "14aa6424",
   "metadata": {},
   "outputs": [],
   "source": [
    "import pandas as pd\n",
    "import numpy as py\n",
    "import matplotlib.pyplot as plt"
   ]
  },
  {
   "cell_type": "code",
   "execution_count": 47,
   "id": "dfaae195",
   "metadata": {},
   "outputs": [
    {
     "name": "stdout",
     "output_type": "stream",
     "text": [
      "(10, 4)\n"
     ]
    },
    {
     "data": {
      "text/html": [
       "<div>\n",
       "<style scoped>\n",
       "    .dataframe tbody tr th:only-of-type {\n",
       "        vertical-align: middle;\n",
       "    }\n",
       "\n",
       "    .dataframe tbody tr th {\n",
       "        vertical-align: top;\n",
       "    }\n",
       "\n",
       "    .dataframe thead th {\n",
       "        text-align: right;\n",
       "    }\n",
       "</style>\n",
       "<table border=\"1\" class=\"dataframe\">\n",
       "  <thead>\n",
       "    <tr style=\"text-align: right;\">\n",
       "      <th></th>\n",
       "      <th>Develope</th>\n",
       "      <th>Age</th>\n",
       "      <th>Salary</th>\n",
       "      <th>Married</th>\n",
       "    </tr>\n",
       "  </thead>\n",
       "  <tbody>\n",
       "    <tr>\n",
       "      <th>0</th>\n",
       "      <td>Karachi</td>\n",
       "      <td>42.0</td>\n",
       "      <td>78000.0</td>\n",
       "      <td>No</td>\n",
       "    </tr>\n",
       "    <tr>\n",
       "      <th>1</th>\n",
       "      <td>Lahore</td>\n",
       "      <td>32.0</td>\n",
       "      <td>48000.0</td>\n",
       "      <td>Yes</td>\n",
       "    </tr>\n",
       "    <tr>\n",
       "      <th>2</th>\n",
       "      <td>Karachi</td>\n",
       "      <td>36.0</td>\n",
       "      <td>60000.0</td>\n",
       "      <td>No</td>\n",
       "    </tr>\n",
       "    <tr>\n",
       "      <th>3</th>\n",
       "      <td>Multan</td>\n",
       "      <td>41.0</td>\n",
       "      <td>68000.0</td>\n",
       "      <td>No</td>\n",
       "    </tr>\n",
       "    <tr>\n",
       "      <th>4</th>\n",
       "      <td>Lahore</td>\n",
       "      <td>42.0</td>\n",
       "      <td>NaN</td>\n",
       "      <td>Yes</td>\n",
       "    </tr>\n",
       "    <tr>\n",
       "      <th>5</th>\n",
       "      <td>Multan</td>\n",
       "      <td>43.0</td>\n",
       "      <td>58000.0</td>\n",
       "      <td>Yes</td>\n",
       "    </tr>\n",
       "    <tr>\n",
       "      <th>6</th>\n",
       "      <td>Karachi</td>\n",
       "      <td>NaN</td>\n",
       "      <td>59000.0</td>\n",
       "      <td>No</td>\n",
       "    </tr>\n",
       "    <tr>\n",
       "      <th>7</th>\n",
       "      <td>Lahore</td>\n",
       "      <td>44.0</td>\n",
       "      <td>79000.0</td>\n",
       "      <td>Yes</td>\n",
       "    </tr>\n",
       "    <tr>\n",
       "      <th>8</th>\n",
       "      <td>Multan</td>\n",
       "      <td>52.0</td>\n",
       "      <td>99000.0</td>\n",
       "      <td>No</td>\n",
       "    </tr>\n",
       "    <tr>\n",
       "      <th>9</th>\n",
       "      <td>Lahore</td>\n",
       "      <td>32.0</td>\n",
       "      <td>69000.0</td>\n",
       "      <td>Yes</td>\n",
       "    </tr>\n",
       "  </tbody>\n",
       "</table>\n",
       "</div>"
      ],
      "text/plain": [
       "  Develope   Age   Salary Married\n",
       "0  Karachi  42.0  78000.0      No\n",
       "1   Lahore  32.0  48000.0     Yes\n",
       "2  Karachi  36.0  60000.0      No\n",
       "3   Multan  41.0  68000.0      No\n",
       "4   Lahore  42.0      NaN     Yes\n",
       "5   Multan  43.0  58000.0     Yes\n",
       "6  Karachi   NaN  59000.0      No\n",
       "7   Lahore  44.0  79000.0     Yes\n",
       "8   Multan  52.0  99000.0      No\n",
       "9   Lahore  32.0  69000.0     Yes"
      ]
     },
     "execution_count": 47,
     "metadata": {},
     "output_type": "execute_result"
    }
   ],
   "source": [
    "develope = ['Karachi', 'Lahore', 'Karachi', 'Multan', 'Lahore', 'Multan', 'Karachi', 'Lahore', 'Multan', 'Lahore']\n",
    "age = [42, 32, 36, 41, 42, 43, py.nan, 44, 52, 32]\n",
    "salary = [78000, 48000, 60000, 68000, py.nan, 58000, 59000, 79000, 99000, 69000]\n",
    "married = ['No', 'Yes', 'No', 'No', 'Yes', 'Yes', 'No', 'Yes', 'No', 'Yes']\n",
    "\n",
    "df = pd.DataFrame({\"Develope\": develope, \"Age\": age, \"Salary\": salary, \"Married\": married})\n",
    "print(df.shape)\n",
    "df"
   ]
  },
  {
   "cell_type": "code",
   "execution_count": 8,
   "id": "82c70ff2",
   "metadata": {},
   "outputs": [
    {
     "name": "stdout",
     "output_type": "stream",
     "text": [
      "10\n",
      "10\n",
      "10\n",
      "10\n"
     ]
    }
   ],
   "source": [
    "print(len(develope))\n",
    "print(len(age))\n",
    "print(len(salary))\n",
    "print(len(married))"
   ]
  },
  {
   "cell_type": "code",
   "execution_count": 35,
   "id": "c59894dd",
   "metadata": {},
   "outputs": [],
   "source": [
    "X = df.iloc[:,:-1].values\n",
    "y = df.iloc[:,3].values"
   ]
  },
  {
   "cell_type": "code",
   "execution_count": 36,
   "id": "d5eaff64",
   "metadata": {},
   "outputs": [
    {
     "data": {
      "text/html": [
       "<div>\n",
       "<style scoped>\n",
       "    .dataframe tbody tr th:only-of-type {\n",
       "        vertical-align: middle;\n",
       "    }\n",
       "\n",
       "    .dataframe tbody tr th {\n",
       "        vertical-align: top;\n",
       "    }\n",
       "\n",
       "    .dataframe thead th {\n",
       "        text-align: right;\n",
       "    }\n",
       "</style>\n",
       "<table border=\"1\" class=\"dataframe\">\n",
       "  <thead>\n",
       "    <tr style=\"text-align: right;\">\n",
       "      <th></th>\n",
       "      <th>Age</th>\n",
       "      <th>Salary</th>\n",
       "    </tr>\n",
       "  </thead>\n",
       "  <tbody>\n",
       "    <tr>\n",
       "      <th>count</th>\n",
       "      <td>9.000000</td>\n",
       "      <td>9.000000</td>\n",
       "    </tr>\n",
       "    <tr>\n",
       "      <th>mean</th>\n",
       "      <td>40.444444</td>\n",
       "      <td>68666.666667</td>\n",
       "    </tr>\n",
       "    <tr>\n",
       "      <th>std</th>\n",
       "      <td>6.326751</td>\n",
       "      <td>15099.668871</td>\n",
       "    </tr>\n",
       "    <tr>\n",
       "      <th>min</th>\n",
       "      <td>32.000000</td>\n",
       "      <td>48000.000000</td>\n",
       "    </tr>\n",
       "    <tr>\n",
       "      <th>25%</th>\n",
       "      <td>36.000000</td>\n",
       "      <td>59000.000000</td>\n",
       "    </tr>\n",
       "    <tr>\n",
       "      <th>50%</th>\n",
       "      <td>42.000000</td>\n",
       "      <td>68000.000000</td>\n",
       "    </tr>\n",
       "    <tr>\n",
       "      <th>75%</th>\n",
       "      <td>43.000000</td>\n",
       "      <td>78000.000000</td>\n",
       "    </tr>\n",
       "    <tr>\n",
       "      <th>max</th>\n",
       "      <td>52.000000</td>\n",
       "      <td>99000.000000</td>\n",
       "    </tr>\n",
       "  </tbody>\n",
       "</table>\n",
       "</div>"
      ],
      "text/plain": [
       "             Age        Salary\n",
       "count   9.000000      9.000000\n",
       "mean   40.444444  68666.666667\n",
       "std     6.326751  15099.668871\n",
       "min    32.000000  48000.000000\n",
       "25%    36.000000  59000.000000\n",
       "50%    42.000000  68000.000000\n",
       "75%    43.000000  78000.000000\n",
       "max    52.000000  99000.000000"
      ]
     },
     "execution_count": 36,
     "metadata": {},
     "output_type": "execute_result"
    }
   ],
   "source": [
    "df.describe()"
   ]
  },
  {
   "cell_type": "code",
   "execution_count": 24,
   "id": "54a334ba",
   "metadata": {},
   "outputs": [],
   "source": [
    "from sklearn.impute import SimpleImputer"
   ]
  },
  {
   "cell_type": "code",
   "execution_count": 45,
   "id": "e311329e",
   "metadata": {},
   "outputs": [
    {
     "data": {
      "text/plain": [
       "array([['Karachi', 42.0, 78000.0],\n",
       "       ['Lahore', 32.0, 48000.0],\n",
       "       ['Karachi', 36.0, 60000.0],\n",
       "       ['Multan', 41.0, 68000.0],\n",
       "       ['Lahore', 42.0, 68666.66666666667],\n",
       "       ['Multan', 43.0, 58000.0],\n",
       "       ['Karachi', 40.44444444444444, 59000.0],\n",
       "       ['Lahore', 44.0, 79000.0],\n",
       "       ['Multan', 52.0, 99000.0],\n",
       "       ['Lahore', 32.0, 69000.0]], dtype=object)"
      ]
     },
     "execution_count": 45,
     "metadata": {},
     "output_type": "execute_result"
    }
   ],
   "source": [
    "X = df.iloc[:,:-1].values\n",
    "y = df.iloc[:,3].values\n",
    "imputer = SimpleImputer(missing_values=py.nan, strategy='mean', fill_value='None')\n",
    "imputer = imputer.fit(X[:,1:3])\n",
    "X[:,1:3] = imputer.transform(X[:,1:3])\n",
    "X"
   ]
  },
  {
   "cell_type": "code",
   "execution_count": 42,
   "id": "8d8fbe26",
   "metadata": {},
   "outputs": [],
   "source": []
  },
  {
   "cell_type": "code",
   "execution_count": 43,
   "id": "c3293fa7",
   "metadata": {},
   "outputs": [
    {
     "data": {
      "text/plain": [
       "array([['Karachi', 42.0, 78000.0],\n",
       "       ['Lahore', 32.0, 48000.0],\n",
       "       ['Karachi', 36.0, 60000.0],\n",
       "       ['Multan', 41.0, 68000.0],\n",
       "       ['Lahore', 42.0, 68666.66666666667],\n",
       "       ['Multan', 43.0, 58000.0],\n",
       "       ['Karachi', 40.44444444444444, 59000.0],\n",
       "       ['Lahore', 44.0, 79000.0],\n",
       "       ['Multan', 52.0, 99000.0],\n",
       "       ['Lahore', 32.0, 69000.0]], dtype=object)"
      ]
     },
     "execution_count": 43,
     "metadata": {},
     "output_type": "execute_result"
    }
   ],
   "source": [
    "X"
   ]
  },
  {
   "cell_type": "code",
   "execution_count": 49,
   "id": "aa15ef92",
   "metadata": {},
   "outputs": [
    {
     "data": {
      "text/plain": [
       "array([['Karachi', 42.0, 78000.0],\n",
       "       ['Lahore', 32.0, 48000.0],\n",
       "       ['Karachi', 36.0, 60000.0],\n",
       "       ['Multan', 41.0, 68000.0],\n",
       "       ['Lahore', 42.0, 68000.0],\n",
       "       ['Multan', 43.0, 58000.0],\n",
       "       ['Karachi', 42.0, 59000.0],\n",
       "       ['Lahore', 44.0, 79000.0],\n",
       "       ['Multan', 52.0, 99000.0],\n",
       "       ['Lahore', 32.0, 69000.0]], dtype=object)"
      ]
     },
     "execution_count": 49,
     "metadata": {},
     "output_type": "execute_result"
    }
   ],
   "source": [
    "XX = df.iloc[:,:-1].values\n",
    "y = df.iloc[:,3].values\n",
    "imputer = SimpleImputer(missing_values=py.nan, strategy='median', fill_value='None')\n",
    "imputer = imputer.fit(XX[:,1:3])\n",
    "XX[:,1:3] = imputer.transform(XX[:,1:3])\n",
    "XX"
   ]
  },
  {
   "cell_type": "code",
   "execution_count": 50,
   "id": "1a223ff4",
   "metadata": {},
   "outputs": [
    {
     "data": {
      "text/plain": [
       "array([['Karachi', 42.0, 78000.0],\n",
       "       ['Lahore', 32.0, 48000.0],\n",
       "       ['Karachi', 36.0, 60000.0],\n",
       "       ['Multan', 41.0, 68000.0],\n",
       "       ['Lahore', 42.0, 48000.0],\n",
       "       ['Multan', 43.0, 58000.0],\n",
       "       ['Karachi', 32.0, 59000.0],\n",
       "       ['Lahore', 44.0, 79000.0],\n",
       "       ['Multan', 52.0, 99000.0],\n",
       "       ['Lahore', 32.0, 69000.0]], dtype=object)"
      ]
     },
     "execution_count": 50,
     "metadata": {},
     "output_type": "execute_result"
    }
   ],
   "source": [
    "XXX = df.iloc[:,:-1].values\n",
    "y = df.iloc[:,3].values\n",
    "imputer = SimpleImputer(missing_values=py.nan, strategy='most_frequent', fill_value='None')\n",
    "imputer = imputer.fit(XXX[:,1:3])\n",
    "XXX[:,1:3] = imputer.transform(XXX[:,1:3])\n",
    "XXX"
   ]
  },
  {
   "cell_type": "code",
   "execution_count": 52,
   "id": "dffbdbd7",
   "metadata": {},
   "outputs": [
    {
     "data": {
      "text/html": [
       "<div>\n",
       "<style scoped>\n",
       "    .dataframe tbody tr th:only-of-type {\n",
       "        vertical-align: middle;\n",
       "    }\n",
       "\n",
       "    .dataframe tbody tr th {\n",
       "        vertical-align: top;\n",
       "    }\n",
       "\n",
       "    .dataframe thead th {\n",
       "        text-align: right;\n",
       "    }\n",
       "</style>\n",
       "<table border=\"1\" class=\"dataframe\">\n",
       "  <thead>\n",
       "    <tr style=\"text-align: right;\">\n",
       "      <th></th>\n",
       "      <th>Develope</th>\n",
       "      <th>Age</th>\n",
       "      <th>Salary</th>\n",
       "    </tr>\n",
       "  </thead>\n",
       "  <tbody>\n",
       "    <tr>\n",
       "      <th>0</th>\n",
       "      <td>Karachi</td>\n",
       "      <td>42.0</td>\n",
       "      <td>78000.0</td>\n",
       "    </tr>\n",
       "    <tr>\n",
       "      <th>1</th>\n",
       "      <td>Lahore</td>\n",
       "      <td>32.0</td>\n",
       "      <td>48000.0</td>\n",
       "    </tr>\n",
       "    <tr>\n",
       "      <th>2</th>\n",
       "      <td>Karachi</td>\n",
       "      <td>36.0</td>\n",
       "      <td>60000.0</td>\n",
       "    </tr>\n",
       "    <tr>\n",
       "      <th>3</th>\n",
       "      <td>Multan</td>\n",
       "      <td>41.0</td>\n",
       "      <td>68000.0</td>\n",
       "    </tr>\n",
       "    <tr>\n",
       "      <th>4</th>\n",
       "      <td>Lahore</td>\n",
       "      <td>42.0</td>\n",
       "      <td>48000.0</td>\n",
       "    </tr>\n",
       "    <tr>\n",
       "      <th>5</th>\n",
       "      <td>Multan</td>\n",
       "      <td>43.0</td>\n",
       "      <td>58000.0</td>\n",
       "    </tr>\n",
       "    <tr>\n",
       "      <th>6</th>\n",
       "      <td>Karachi</td>\n",
       "      <td>32.0</td>\n",
       "      <td>59000.0</td>\n",
       "    </tr>\n",
       "    <tr>\n",
       "      <th>7</th>\n",
       "      <td>Lahore</td>\n",
       "      <td>44.0</td>\n",
       "      <td>79000.0</td>\n",
       "    </tr>\n",
       "    <tr>\n",
       "      <th>8</th>\n",
       "      <td>Multan</td>\n",
       "      <td>52.0</td>\n",
       "      <td>99000.0</td>\n",
       "    </tr>\n",
       "    <tr>\n",
       "      <th>9</th>\n",
       "      <td>Lahore</td>\n",
       "      <td>32.0</td>\n",
       "      <td>69000.0</td>\n",
       "    </tr>\n",
       "  </tbody>\n",
       "</table>\n",
       "</div>"
      ],
      "text/plain": [
       "  Develope   Age   Salary\n",
       "0  Karachi  42.0  78000.0\n",
       "1   Lahore  32.0  48000.0\n",
       "2  Karachi  36.0  60000.0\n",
       "3   Multan  41.0  68000.0\n",
       "4   Lahore  42.0  48000.0\n",
       "5   Multan  43.0  58000.0\n",
       "6  Karachi  32.0  59000.0\n",
       "7   Lahore  44.0  79000.0\n",
       "8   Multan  52.0  99000.0\n",
       "9   Lahore  32.0  69000.0"
      ]
     },
     "execution_count": 52,
     "metadata": {},
     "output_type": "execute_result"
    }
   ],
   "source": [
    "new_df = pd.DataFrame(XXX, columns=[\"Develope\", \"Age\", \"Salary\"])\n",
    "new_df"
   ]
  },
  {
   "cell_type": "code",
   "execution_count": 58,
   "id": "ebbce048",
   "metadata": {},
   "outputs": [
    {
     "data": {
      "text/plain": [
       "array([[1.0, 0.0, 0.0, 42.0, 78000.0],\n",
       "       [0.0, 1.0, 0.0, 32.0, 48000.0],\n",
       "       [1.0, 0.0, 0.0, 36.0, 60000.0],\n",
       "       [0.0, 0.0, 1.0, 41.0, 68000.0],\n",
       "       [0.0, 1.0, 0.0, 42.0, 68666.66666666667],\n",
       "       [0.0, 0.0, 1.0, 43.0, 58000.0],\n",
       "       [1.0, 0.0, 0.0, 40.44444444444444, 59000.0],\n",
       "       [0.0, 1.0, 0.0, 44.0, 79000.0],\n",
       "       [0.0, 0.0, 1.0, 52.0, 99000.0],\n",
       "       [0.0, 1.0, 0.0, 32.0, 69000.0]], dtype=object)"
      ]
     },
     "execution_count": 58,
     "metadata": {},
     "output_type": "execute_result"
    }
   ],
   "source": [
    "from sklearn.preprocessing import LabelEncoder, OneHotEncoder\n",
    "from sklearn.compose import ColumnTransformer\n",
    "\n",
    "labelencoder_x = LabelEncoder()\n",
    "X[:,0] = labelencoder_x.fit_transform(X[:,0])\n",
    "X\n",
    "\n",
    "ct = ColumnTransformer([(\"Develope\", OneHotEncoder(), [0])], remainder = 'passthrough')\n",
    "X = ct.fit_transform(X)\n",
    "X"
   ]
  },
  {
   "cell_type": "code",
   "execution_count": 63,
   "id": "f33bcb26",
   "metadata": {},
   "outputs": [],
   "source": [
    "from sklearn.model_selection import train_test_split\n",
    "X_train, X_test, y_train, y_test = train_test_split(X,y,test_size=0.2, random_state=0)"
   ]
  },
  {
   "cell_type": "code",
   "execution_count": 65,
   "id": "d43b2caf",
   "metadata": {},
   "outputs": [
    {
     "data": {
      "text/plain": [
       "array([[-0.57735027,  1.        , -0.57735027,  0.54554305,  0.27604147],\n",
       "       [-0.57735027,  1.        , -0.57735027, -1.68622397,  0.3100158 ],\n",
       "       [-0.57735027,  1.        , -0.57735027, -1.68622397, -1.83036728],\n",
       "       [ 1.73205081, -1.        , -0.57735027,  0.19837929, -0.70921424],\n",
       "       [-0.57735027,  1.        , -0.57735027,  0.99189645,  1.32924584],\n",
       "       [-0.57735027, -1.        ,  1.73205081,  0.32236635,  0.2080928 ],\n",
       "       [ 1.73205081, -1.        , -0.57735027,  0.54554305,  1.22732284],\n",
       "       [-0.57735027, -1.        ,  1.73205081,  0.76871975, -0.81113724]])"
      ]
     },
     "execution_count": 65,
     "metadata": {},
     "output_type": "execute_result"
    }
   ],
   "source": [
    "from sklearn.preprocessing import StandardScaler\n",
    "sc_x = StandardScaler()\n",
    "X_test = sc_x.fit_transform(X_test)\n",
    "X_train = sc_x.fit_transform(X_train)\n",
    "X_train"
   ]
  },
  {
   "cell_type": "code",
   "execution_count": null,
   "id": "3dd480c9",
   "metadata": {},
   "outputs": [],
   "source": []
  }
 ],
 "metadata": {
  "kernelspec": {
   "display_name": "Python [conda env:myenv] *",
   "language": "python",
   "name": "conda-env-myenv-py"
  },
  "language_info": {
   "codemirror_mode": {
    "name": "ipython",
    "version": 3
   },
   "file_extension": ".py",
   "mimetype": "text/x-python",
   "name": "python",
   "nbconvert_exporter": "python",
   "pygments_lexer": "ipython3",
   "version": "3.11.8"
  }
 },
 "nbformat": 4,
 "nbformat_minor": 5
}
